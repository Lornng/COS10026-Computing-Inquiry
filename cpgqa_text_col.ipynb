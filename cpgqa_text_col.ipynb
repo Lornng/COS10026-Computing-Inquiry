{
  "nbformat": 4,
  "nbformat_minor": 0,
  "metadata": {
    "colab": {
      "provenance": [],
      "mount_file_id": "1mv1jncyd_9-lro8GPP0qFhIe1bOhKxeP",
      "authorship_tag": "ABX9TyNA5Aj96iCn/yunnB+Do4eW",
      "include_colab_link": true
    },
    "kernelspec": {
      "name": "python3",
      "display_name": "Python 3"
    },
    "language_info": {
      "name": "python"
    }
  },
  "cells": [
    {
      "cell_type": "markdown",
      "metadata": {
        "id": "view-in-github",
        "colab_type": "text"
      },
      "source": [
        "<a href=\"https://colab.research.google.com/github/Lornng/COS10026-Computing-Inquiry/blob/main/cpgqa_text_col.ipynb\" target=\"_parent\"><img src=\"https://colab.research.google.com/assets/colab-badge.svg\" alt=\"Open In Colab\"/></a>"
      ]
    },
    {
      "cell_type": "code",
      "execution_count": 22,
      "metadata": {
        "id": "SEbIRkRDaYf2"
      },
      "outputs": [],
      "source": [
        "!pip install -q datasets"
      ]
    },
    {
      "cell_type": "code",
      "source": [
        "import pandas as pd\n",
        "prompt='Below is a response according to the question given......'\n",
        "df = pd.read_csv(\"cpgQA.csv\")\n",
        "df['text'] = df.apply(lambda row: prompt + '###Instruction: ' + row['QUESTION'] + '###Response: ' + row['ANSWER'], axis =1)\n",
        "df.to_csv(\"cpgQA_textcol.csv\", index=False)"
      ],
      "metadata": {
        "id": "2zlh5ceEayb2"
      },
      "execution_count": 23,
      "outputs": []
    },
    {
      "cell_type": "code",
      "source": [
        "print(df['text'].head(10))"
      ],
      "metadata": {
        "colab": {
          "base_uri": "https://localhost:8080/"
        },
        "id": "0NqYWxPAceq0",
        "outputId": "1b4dd382-7f6f-47d4-a102-fdfe51be5c35"
      },
      "execution_count": null,
      "outputs": [
        {
          "output_type": "stream",
          "name": "stdout",
          "text": [
            "0    Below is a response according to the question ...\n",
            "1    Below is a response according to the question ...\n",
            "2    Below is a response according to the question ...\n",
            "3    Below is a response according to the question ...\n",
            "4    Below is a response according to the question ...\n",
            "5    Below is a response according to the question ...\n",
            "6    Below is a response according to the question ...\n",
            "7    Below is a response according to the question ...\n",
            "8    Below is a response according to the question ...\n",
            "9    Below is a response according to the question ...\n",
            "Name: text, dtype: object\n"
          ]
        }
      ]
    }
  ]
}